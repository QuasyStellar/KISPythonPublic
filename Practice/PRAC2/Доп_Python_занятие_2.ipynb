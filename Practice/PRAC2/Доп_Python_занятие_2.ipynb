{
 "cells": [
  {
   "cell_type": "markdown",
   "id": "2991604c",
   "metadata": {
    "id": "2991604c"
   },
   "source": [
    "### Практическое занятие №2.\n",
    "\n",
    "#### Работа с вещественными числами и векторами"
   ]
  },
  {
   "cell_type": "markdown",
   "id": "9Ox4mSq2jpTF",
   "metadata": {
    "id": "9Ox4mSq2jpTF"
   },
   "source": [
    "**При решении следующих задач предлагается выполнять автоматическую проверку синтаксиса кода на соответствие стандарту PEP8. Такая практика поможет Вам научиться писать код на языке Python сразу без синтаксических ошибок!**"
   ]
  },
  {
   "cell_type": "code",
   "execution_count": null,
   "id": "ab390182-b8ef-4aaf-a933-785868a1c461",
   "metadata": {},
   "outputs": [],
   "source": [
    "# установка библиотеки для проверки кода на соответствие PEP8\n",
    "!pip install flake8 pycodestyle_magic"
   ]
  },
  {
   "cell_type": "code",
   "execution_count": null,
   "id": "e3e8e7e7-43d9-4b32-8809-c7c40fad2baa",
   "metadata": {},
   "outputs": [],
   "source": [
    "# теперь код будет проверяться на соответствие PEP8\n",
    "%load_ext pycodestyle_magic\n",
    "%pycodestyle_on"
   ]
  },
  {
   "cell_type": "markdown",
   "id": "6c08756a",
   "metadata": {
    "id": "6c08756a"
   },
   "source": [
    "**1.** Вычислить значение итерационной функции:\n",
    "\n",
    "$\n",
    "\\begin{align}\n",
    "f(n, m, a) = \\prod_{c=1}^{a}\\prod_{j=1}^{m}\\sum_{i=1}^{n}\\left(\\frac{(28 c ^ {2}) ^ {6}}{5} + 16\\left(\\frac{j^{3}}{44} + i^{2}\\right)^{5}\\right),\n",
    "\\end{align}\n",
    "$\n",
    "\n",
    "при $n=4, m=2, a=8$. Код должен соответствовать PEP8."
   ]
  },
  {
   "cell_type": "code",
   "execution_count": null,
   "id": "9d0a49a6-9fc2-494a-a230-9be022520401",
   "metadata": {},
   "outputs": [],
   "source": []
  },
  {
   "cell_type": "markdown",
   "id": "TVBXPy-nueZw",
   "metadata": {
    "id": "TVBXPy-nueZw"
   },
   "source": [
    "Пусть даны два вектора $\\vec{y} \\in \\mathbb{R}^n$ и $\\vec{z} \\in \\mathbb{R}^n$, векторы имеют вид $\\vec{y}=(y_1,y_2,\\dots,y_n)$ и $\\vec{z}=(z_1,z_2,\\dots,z_n)$. С помощью Python:"
   ]
  },
  {
   "cell_type": "markdown",
   "id": "9ba51677",
   "metadata": {
    "id": "9ba51677"
   },
   "source": [
    "**2.** Вычислить евклидово расстояние между двумя векторами $\\vec{y}$ и $\\vec{z}$:\n",
    "\n",
    "$\n",
    "\\begin{align}\n",
    "d_1(\\vec{y}, \\vec{z}) = \\sqrt{\\sum_{i=1}^{n} (y_i - z_i)^2},\n",
    "\\end{align}\n",
    "$\n",
    "\n",
    "при $\\vec{y} = (1, 0.5, 1)$, $\\vec{z} = (0.5, 2, 1)$. Код должен соответствовать PEP8."
   ]
  },
  {
   "cell_type": "code",
   "execution_count": null,
   "id": "3b04dc7f-b1d0-467b-887e-43c4cc25bd0f",
   "metadata": {},
   "outputs": [],
   "source": []
  },
  {
   "cell_type": "markdown",
   "id": "0f15f5bf",
   "metadata": {
    "id": "0f15f5bf"
   },
   "source": [
    "**3.** Вычислить манхэттенское расстояние между двумя векторами $\\vec{y}$ и $\\vec{z}$:\n",
    "\n",
    "$\n",
    "\\begin{align}\n",
    "d_2(\\vec{y}, \\vec{z}) = \\sum_{i=1}^{n} |y_i - z_i|,\n",
    "\\end{align}\n",
    "$\n",
    "\n",
    "при $\\vec{y} = (1, 0.5, 1)$, $\\vec{z} = (0.5, 2, 1)$. Код должен соответствовать PEP8."
   ]
  },
  {
   "cell_type": "code",
   "execution_count": null,
   "id": "3779ac48-95eb-4cd0-b80a-6af778b3adb1",
   "metadata": {},
   "outputs": [],
   "source": []
  },
  {
   "cell_type": "markdown",
   "id": "33e7f70e",
   "metadata": {
    "id": "33e7f70e"
   },
   "source": [
    "**4.** Вычислить расстояние Чебышева между двумя векторами $\\vec{y}$ и $\\vec{z}$:\n",
    "\n",
    "$\n",
    "\\begin{align}\n",
    "d_3(\\vec{y}, \\vec{z}) = \\max |y_i - z_i|,\n",
    "\\end{align}\n",
    "$\n",
    "\n",
    "при $\\vec{y} = (1, 0.5, 1)$, $\\vec{z} = (0.5, 2, 1)$. Запрещается использование функции ```max()```. Код должен соответствовать PEP8."
   ]
  },
  {
   "cell_type": "code",
   "execution_count": null,
   "id": "9f1af8df-1116-4b1b-beea-5e9875310d32",
   "metadata": {},
   "outputs": [],
   "source": []
  },
  {
   "cell_type": "markdown",
   "id": "462b624b",
   "metadata": {
    "id": "462b624b"
   },
   "source": [
    "**5.** Вычислить квадрат евклидового расстояния между двумя векторами $\\vec{y}$ и $\\vec{z}$:\n",
    "\n",
    "$\n",
    "\\begin{align}\n",
    "d_4(\\vec{y}, \\vec{z}) = \\sum_{i=1}^{n} (y_i - z_i)^2,\n",
    "\\end{align}\n",
    "$\n",
    "\n",
    "при $\\vec{y} = (1, 0.5, 1)$, $\\vec{z} = (0.5, 2, 1)$. Код должен соответствовать PEP8."
   ]
  },
  {
   "cell_type": "code",
   "execution_count": null,
   "id": "87aa62b4-9504-4362-ae8a-3d543981794b",
   "metadata": {},
   "outputs": [],
   "source": []
  },
  {
   "cell_type": "markdown",
   "id": "b76cbfd5",
   "metadata": {
    "id": "b76cbfd5"
   },
   "source": [
    "**6.** Вычислить расстояние Минковского между двумя векторами $\\vec{y}$ и $\\vec{z}$:\n",
    "\n",
    "\n",
    "$\n",
    "\\begin{align}\n",
    "d_5(\\vec{y}, \\vec{z}) = \\left(\\sum_{i=1}^{n} |y_i - z_i|^h\\right)^{{1}/{h}},\n",
    "\\end{align}\n",
    "$\n",
    "\n",
    "при $\\vec{y} = (1, 0.5, 1)$, $\\vec{z} = (0.5, 2, 1)$ для $h = 5$. Код должен соответствовать PEP8."
   ]
  },
  {
   "cell_type": "code",
   "execution_count": null,
   "id": "ce705cb7-ffa5-4e9c-99f9-e06ebd84e8d0",
   "metadata": {},
   "outputs": [],
   "source": []
  },
  {
   "cell_type": "markdown",
   "id": "385ee54e",
   "metadata": {
    "id": "385ee54e"
   },
   "source": [
    "**7.** `matplotlib` — библиотека на Python для визуализации данных. Полученные с помощью библиотеки `matplotlib` изображения часто используются в научных публикациях, в графическом интерфейсе пользователя в веб-приложениях, мобильных приложениях, приложениях для ПК. Функция, позволяющая сравнить абсолютные значения штрафов реализованных мер расстояния при удалении векторов друг от друга, реализованная с помощью `matplotlib`, имеет вид:"
   ]
  },
  {
   "cell_type": "code",
   "execution_count": null,
   "id": "e19d442f-f3c0-4903-919e-8eacf1f36b12",
   "metadata": {},
   "outputs": [],
   "source": [
    "import matplotlib.pyplot as plt\n",
    "\n",
    "\n",
    "def visualize(distance_metrics, y, z, move=1):\n",
    "    moved_z = [i + move for i in z]\n",
    "    distance_differences = []\n",
    "    for distance in distance_metrics:\n",
    "        distance_before_move = distance(y, z)\n",
    "        distance_after_move = distance(y, moved_z)\n",
    "        distance_difference = distance_after_move - distance_before_move\n",
    "        distance_differences.append(distance_difference)\n",
    "    x = range(0, len(distance_differences))\n",
    "    figure, axis = plt.subplots()\n",
    "\n",
    "    # Построение гистограммы с подписями.\n",
    "    axis.bar(x, distance_differences)\n",
    "    axis.set_xticks(x, labels=[f'd_{i + 1}' for i in x])\n",
    "    # для тех, кто работает в средах, отличных от jupyter-подобных - раскомментировать строку ниже\n",
    "    # plt.show()"
   ]
  },
  {
   "cell_type": "markdown",
   "id": "6c211285",
   "metadata": {
    "id": "6c211285"
   },
   "source": [
    "Вызовите функцию `visualize`, передав в качестве аргументов реализованные меры расстояний и два вектора:\n",
    "\n",
    "$\\vec{y} = (1, 0.5, 1)$, $\\vec{z} = (0.5, 2, 1)$.\n",
    "\n",
    "Сравните результаты при различных значениях параметра `move`, например, при $1, 0.01, 1.5$."
   ]
  },
  {
   "cell_type": "code",
   "execution_count": null,
   "id": "29569af7-e323-46a3-9792-c3f92260e4e1",
   "metadata": {},
   "outputs": [],
   "source": []
  },
  {
   "cell_type": "markdown",
   "id": "4a26e843",
   "metadata": {
    "id": "4a26e843"
   },
   "source": [
    "#### Работа со строками\n",
    "\n",
    "Пусть дан набор `words` из $n$ строк $(s_1, s_2, ..., s_n)$."
   ]
  },
  {
   "cell_type": "code",
   "execution_count": null,
   "id": "6027ea98",
   "metadata": {
    "id": "6027ea98"
   },
   "outputs": [],
   "source": [
    "words = [\"language!\", \"programming\", \"Python\", \"the\", \"love\", \"I\"]"
   ]
  },
  {
   "cell_type": "markdown",
   "id": "654c976a",
   "metadata": {
    "id": "654c976a"
   },
   "source": [
    "**8.** Реализовать функцию, разворачивающую подаваемый на вход список и преобразующую результат в строку, разделённую пробелами. Полученная строка не должна заканчиваться пробелом. Код должен соответствовать PEP8."
   ]
  },
  {
   "cell_type": "code",
   "execution_count": null,
   "id": "19e5c01e-131a-4064-bcf3-a403dbc349f2",
   "metadata": {},
   "outputs": [],
   "source": []
  },
  {
   "cell_type": "markdown",
   "id": "3cfaf1fd",
   "metadata": {
    "id": "3cfaf1fd"
   },
   "source": [
    "**9.** Реализовать функцию $f(s, c)$, вычисляющую, сколько раз символ $c$ встречается в полученной в задаче №8 строке $s$. Используя полученную функцию $f(s, c)$ реализовать функцию `count_characters`, возвращающую словарь `{}`, в котором ключами являются символы $c_i$, а значениями являются результаты выполнения функции $f(s, c_i)$. Буквы в разном регистре (например, `I` и `i`) считаются одним и тем же символом, пробелы не учитываются."
   ]
  },
  {
   "cell_type": "code",
   "execution_count": null,
   "id": "9dc9e56a",
   "metadata": {
    "id": "9dc9e56a"
   },
   "outputs": [],
   "source": []
  },
  {
   "cell_type": "markdown",
   "id": "c093b4ab",
   "metadata": {
    "id": "c093b4ab"
   },
   "source": [
    "**10.** Каким образом поисковым системам удаётся находить подходящие результаты даже если пользователь допускает одну или несколько опечаток? Каким образом можно определить, насколько похожи две различные последовательности символов? Одним из способов определения сходства последовательностей является расстояние Левенштейна.\n",
    "\n",
    "Формула вычисления расстояния Левенштейна имеет вид:\n",
    "\n",
    "$$\n",
    "f\\left(\\mathbf{a}, \\mathbf{b}, i, j\\right)=\\left\\{\n",
    "    {\\begin{array}\n",
    "        {llcl}\n",
    "        \\max\\left(i, j\\right),&&&i=0\\ или\\ j=0\\\\\n",
    "        f(\\mathbf{a}, \\mathbf{b}, i-1, j-1),&&&a_{i-1}=b_{j-1}\\\\\n",
    "        1 + \\min\\left(\n",
    "            f\\left(\\mathbf{a}, \\mathbf{b}, i, j-1\\right),\n",
    "            f\\left(\\mathbf{a}, \\mathbf{b}, i-1,j\\right),\n",
    "            f\\left(\\mathbf{a}, \\mathbf{b}, i-1,j-1\\right)\n",
    "        \\right),&&&иначе\n",
    "    \\end{array}\n",
    "}\\right.\n",
    "$$\n",
    "\n",
    "где $\\mathbf{a}$ и $\\mathbf{b}$ — сравниваемые последовательности символов, например, строки;  \n",
    "$i$ и $j$ — номера удаления и вставки соответственно;  \n",
    "$a_{i-1}$ — $(i-1)$-й символ в строке $\\mathbf{a}$;  \n",
    "$b_{j-1}$ — $(j-1)$-й символ в строке $\\mathbf{b}$.\n",
    "\n",
    "Реализуйте расстояние Левенштейна на Python по рекуррентной формуле выше.\n",
    "\n",
    "Сравните попарно следующие строки:\n",
    "\n",
    "- `Hello, world!` и `Goodbye, world!`,\n",
    "- `Hello, world!` и `Bye, world!`,\n",
    "- `I love Python` и `I like Python`,\n",
    "- `100101` и `100011`."
   ]
  },
  {
   "cell_type": "code",
   "execution_count": null,
   "id": "77734537-345a-4cd7-b3ae-a559e71fbe1d",
   "metadata": {},
   "outputs": [],
   "source": []
  },
  {
   "cell_type": "markdown",
   "id": "58fcfffd",
   "metadata": {
    "id": "58fcfffd"
   },
   "source": [
    "**11.** С помощью модуля [`timeit`](https://docs.python.org/3/library/timeit.html) измерьте производительность реализованного алгоритма для строк различной длины. Попробуйте улучшить производительность полученного кода, заменив рекурсивные вызовы циклами. Установите пакет `python-Levenshtein`, содержащий реализацию расстояния Левенштейна на языке C (дополнительную информацию можно почитать [здесь](https://www.geeksforgeeks.org/introduction-to-python-levenshtein-module/?ysclid=m77reoorxu482413837)), импортируйте функцию ```from Levenshtein import distance``` и измерьте производительность библиотечной реализации."
   ]
  },
  {
   "cell_type": "code",
   "execution_count": null,
   "id": "645d785d-87e6-4ded-8255-bf553eb82192",
   "metadata": {},
   "outputs": [],
   "source": []
  },
  {
   "cell_type": "markdown",
   "id": "L4zDBzIevLCk",
   "metadata": {
    "id": "L4zDBzIevLCk"
   },
   "source": [
    "**Выполнение данных заданий в течение практического занятия №2 даёт возможность получить следующие баллы:**\n",
    "\n",
    "*   **Любые 4 задачи: 0,5 балла**\n",
    "*   **Любые 7 задач: 1 балл**\n",
    "*   **Любые 9 задач: 2 балла**\n",
    "*   **Все 11 задач: 3 балла**"
   ]
  }
 ],
 "metadata": {
  "colab": {
   "provenance": []
  },
  "kernelspec": {
   "display_name": "Python 3 (ipykernel)",
   "language": "python",
   "name": "python3"
  },
  "language_info": {
   "codemirror_mode": {
    "name": "ipython",
    "version": 3
   },
   "file_extension": ".py",
   "mimetype": "text/x-python",
   "name": "python",
   "nbconvert_exporter": "python",
   "pygments_lexer": "ipython3",
   "version": "3.12.3"
  }
 },
 "nbformat": 4,
 "nbformat_minor": 5
}
